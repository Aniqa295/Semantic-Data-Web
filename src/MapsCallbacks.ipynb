{
 "cells": [
  {
   "cell_type": "code",
   "execution_count": 6,
   "metadata": {},
   "outputs": [],
   "source": [
    "import plotly.express as px\n",
    "import plotly.graph_objs as go\n",
    "from jupyter_dash import JupyterDash\n",
    "from dash.dependencies import Input, Output, State\n",
    "import plotly.express as px\n",
    "from jupyter_dash import JupyterDash\n",
    "from dash.dependencies import Input, Output, State\n",
    "import dash\n",
    "import pandas as pd\n",
    "import import_ipynb\n",
    "\n",
    "from ipynb.fs.full.MainApp import app\n"
   ]
  },
  {
   "cell_type": "code",
   "execution_count": 7,
   "metadata": {},
   "outputs": [],
   "source": [
    "#---------------------------------------------------Charts Function--------------------------------------------------------------\n",
    "def gen_map_function(n_clicks, jsonified_ResultListdataframe):\n",
    "    \n",
    "    if n_clicks > 0:\n",
    "       \n",
    "        ResultListdataframe = pd.read_json(jsonified_ResultListdataframe, orient='split')\n",
    "        \n",
    "        if 'lon' in ResultListdataframe.columns:\n",
    "            \n",
    "            fig = go.Figure(data=go.Scattergeo(\n",
    "                                    lon = ResultListdataframe['lon'],\n",
    "                                    lat = ResultListdataframe['lat'],\n",
    "                                    mode = 'markers',\n",
    "                                    ))\n",
    "\n",
    "        \n",
    "        else:\n",
    "            print('No Coordinates')#pop up no coordinate\n",
    "            return { },{'display': 'none'}\n",
    "\n",
    "\n",
    "        return fig,{'display': 'block'}\n",
    "\n",
    "    return { },{'display': 'none'}"
   ]
  },
  {
   "cell_type": "code",
   "execution_count": 8,
   "metadata": {},
   "outputs": [],
   "source": [
    "#---------------------------------------------------Charts Callback--------------------------------------------------------------\n",
    "@app.callback(\n",
    "    [Output(\"map\", \"figure\"), Output('result-map', 'style')],\n",
    "    [Input(\"submit-btn\", \"n_clicks\"),\n",
    "    Input(\"intermediate-value\", \"children\"),\n",
    "    ],\n",
    ")\n",
    "def gen_map(n_clicks, jsonified_ResultListdataframe):\n",
    "    return gen_map_function(n_clicks, jsonified_ResultListdataframe)\n",
    "    \n",
    "#---------------------------------------------------Charts Compare Callback--------------------------------------------------------------\n",
    "@app.callback(\n",
    "    [Output(\"map2\", \"figure\"), Output('result-map2', 'style')],\n",
    "    [Input(\"compare-btn\", \"n_clicks\"),\n",
    "    Input(\"intermediate-value2\", \"children\"),\n",
    "    ],\n",
    ")\n",
    "def gen_map(n_clicks, jsonified_ResultListdataframe):\n",
    "    return gen_map_function(n_clicks, jsonified_ResultListdataframe)"
   ]
  },
  {
   "cell_type": "code",
   "execution_count": null,
   "metadata": {},
   "outputs": [],
   "source": []
  }
 ],
 "metadata": {
  "kernelspec": {
   "display_name": "Python 3",
   "language": "python",
   "name": "python3"
  },
  "language_info": {
   "codemirror_mode": {
    "name": "ipython",
    "version": 3
   },
   "file_extension": ".py",
   "mimetype": "text/x-python",
   "name": "python",
   "nbconvert_exporter": "python",
   "pygments_lexer": "ipython3",
   "version": "3.7.6"
  }
 },
 "nbformat": 4,
 "nbformat_minor": 4
}
