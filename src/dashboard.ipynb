{
 "cells": [
  {
   "cell_type": "code",
   "execution_count": 41,
   "metadata": {},
   "outputs": [],
   "source": [
    "import plotly.express as px\n",
    "from jupyter_dash import JupyterDash\n",
    "import dash_core_components as dcc\n",
    "import dash_html_components as html\n"
   ]
  },
  {
   "cell_type": "code",
   "execution_count": 42,
   "metadata": {},
   "outputs": [],
   "source": [
    "# Build App\n",
    "app = JupyterDash(__name__)\n",
    "\n",
    "app.layout = html.Div([\n",
    "    \n",
    "    html.Div(\n",
    "        className=\"navbar\",\n",
    "        children=[ \n",
    "            html.H3('Interactive Data Analytics Dashboard for RDF Knowledge Graphs', className=\"navbar--title\"),\n",
    "            html.Div(\n",
    "                className=\"navbar--btns\",\n",
    "                children=[\n",
    "                    html.Span(\n",
    "                        className=\"navbar--btn_left\",\n",
    "                        children=\"Dashboard\"),\n",
    "                    html.Span(\n",
    "                        className=\"navbar--btn_left\",\n",
    "                        children=\"Tables\"),\n",
    "                    html.Span(\n",
    "                        className=\"navbar--btn_left\",\n",
    "                        children=\"Charts\"),\n",
    "                    html.Span(\n",
    "                        className=\"navbar--btn_left\",\n",
    "                        children=\"Query Samples\"),\n",
    "                    html.Span(\n",
    "                        className=\"navbar--btn_right\",\n",
    "                        children=\"Upload\"),\n",
    "                    html.Span(\n",
    "                        className=\"navbar--btn_right\",\n",
    "                        children=\"Download\"),]),\n",
    "\n",
    "   \n",
    "    html.Div(\n",
    "        className=\"querybox\",\n",
    "        children=[\n",
    "            html.H4(\"SPARQL Query\", className=\"querybox--title\"),\n",
    "            html.Textarea(className=\"querybox--textarea\"),\n",
    "            html.Button(\"SUBMIT\", className=\"querybox--btn\")])\n",
    "      ])\n",
    "       \n",
    "])#lay-out div    \n",
    "    \n"
   ]
  },
  {
   "cell_type": "code",
   "execution_count": 43,
   "metadata": {},
   "outputs": [
    {
     "data": {
      "text/html": [
       "\n",
       "        <iframe\n",
       "            width=\"100%\"\n",
       "            height=\"650\"\n",
       "            src=\"http://127.0.0.1:8050/\"\n",
       "            frameborder=\"0\"\n",
       "            allowfullscreen\n",
       "        ></iframe>\n",
       "        "
      ],
      "text/plain": [
       "<IPython.lib.display.IFrame at 0x220d17e36c8>"
      ]
     },
     "metadata": {},
     "output_type": "display_data"
    }
   ],
   "source": [
    "# Run app and display result inline in the notebook\n",
    "app.run_server(mode='inline')\n",
    "\n",
    "# Run app and display result on localhost\n",
    "#app.run_server(mode='external')"
   ]
  },
  {
   "cell_type": "code",
   "execution_count": null,
   "metadata": {},
   "outputs": [],
   "source": []
  }
 ],
 "metadata": {
  "kernelspec": {
   "display_name": "Python 3",
   "language": "python",
   "name": "python3"
  },
  "language_info": {
   "codemirror_mode": {
    "name": "ipython",
    "version": 3
   },
   "file_extension": ".py",
   "mimetype": "text/x-python",
   "name": "python",
   "nbconvert_exporter": "python",
   "pygments_lexer": "ipython3",
   "version": "3.7.6"
  }
 },
 "nbformat": 4,
 "nbformat_minor": 4
}
