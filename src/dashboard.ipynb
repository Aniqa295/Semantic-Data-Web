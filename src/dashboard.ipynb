{
 "cells": [
  {
   "cell_type": "code",
   "execution_count": 34,
   "metadata": {},
   "outputs": [],
   "source": [
    "import plotly.express as px\n",
    "from jupyter_dash import JupyterDash\n",
    "import dash_core_components as dcc\n",
    "import dash_html_components as html\n",
    "from dash.dependencies import Input, Output, State\n",
    "from SPARQLWrapper import SPARQLWrapper, JSON, CSV\n"
   ]
  },
  {
   "cell_type": "code",
   "execution_count": 35,
   "metadata": {},
   "outputs": [],
   "source": [
    "# Build App\n",
    "app = JupyterDash(__name__)\n",
    "\n",
    "#function to query dbpedia endpoint\n",
    "def sql(value):\n",
    "    sparql = SPARQLWrapper(\"http://dbpedia.org/sparql\")\n",
    "    sparql.setQuery(value)\n",
    "    sparql.setReturnFormat(CSV)\n",
    "    results = sparql.query()\n",
    "    \n",
    "    file = list() #create an empty list\n",
    "    #loop to put each of the individual records in a new row\n",
    "    for result in results:\n",
    "        file.append(result)\n",
    "        \n",
    "    return file    \n",
    "\n",
    "app.layout = html.Div([\n",
    "    \n",
    "    html.Div(\n",
    "        className=\"navbar\",\n",
    "        children=[ \n",
    "            html.H3(\n",
    "                children=\"Interactive Data Analytics Dashboard for RDF Knowledge Graphs\", \n",
    "                className=\"navbar--title\"),\n",
    "            html.Div(\n",
    "                className=\"navbar--btns\",\n",
    "                children=[\n",
    "                    html.Span(\n",
    "                        className=\"navbar--btn_left\",\n",
    "                        children=\"Dashboard\"\n",
    "                    ),\n",
    "                    html.Span(\n",
    "                        className=\"navbar--btn_left\",\n",
    "                        children=\"Tables\"\n",
    "                    ),\n",
    "                    html.Span(\n",
    "                        className=\"navbar--btn_left\",\n",
    "                        children=\"Charts\"\n",
    "                    ),\n",
    "                    html.Span(\n",
    "                        className=\"navbar--btn_left\",\n",
    "                        children=\"Query Samples\"\n",
    "                    ),\n",
    "                    html.Span(\n",
    "                        className=\"navbar--btn_right\",\n",
    "                        children=\"Upload\"\n",
    "                    ),\n",
    "                    html.Span(\n",
    "                        className=\"navbar--btn_right\",\n",
    "                        children=\"Download\"\n",
    "                    ),\n",
    "                ]),\n",
    "    ]),\n",
    "    html.Div(\n",
    "        className=\"querybox\",\n",
    "        children=[\n",
    "            html.H4(\n",
    "                className=\"querybox--title\",\n",
    "                children=\"SPARQL Query\"\n",
    "            ),\n",
    "            dcc.Textarea(\n",
    "                id= \"query-text\", \n",
    "                value=\"Enter your SPARQL query.\", \n",
    "                className=\"querybox--textarea\"\n",
    "            ),\n",
    "            html.Button(\n",
    "                id=\"submit-btn\", \n",
    "                className=\"querybox--btn\", \n",
    "                children=\"SUBMIT\", \n",
    "                n_clicks=0\n",
    "            )\n",
    "    ]),\n",
    "    html.Div(\n",
    "        id=\"output\",\n",
    "        className=\"output\"\n",
    "    )\n",
    "       \n",
    "])#lay-out div    \n",
    "    \n",
    "@app.callback(\n",
    "    Output(\"output\", \"children\"),\n",
    "    Input(\"submit-btn\", \"n_clicks\"),\n",
    "    State(\"query-text\",\"value\")\n",
    ")\n",
    "def update_output(n_clicks, value):\n",
    "    if n_clicks > 0:\n",
    "        resultList = sql(value)\n",
    "        resultListDecoded = list()\n",
    "        for result in resultList:   \n",
    "            resultListDecoded.append(result.decode(\"utf-8\"))\n",
    "            \n",
    "        return resultListDecoded"
   ]
  },
  {
   "cell_type": "code",
   "execution_count": 36,
   "metadata": {},
   "outputs": [
    {
     "name": "stdout",
     "output_type": "stream",
     "text": [
      "Dash app running on http://127.0.0.1:8050/\n"
     ]
    }
   ],
   "source": [
    "# Run app and display result inline in the notebook\n",
    "#app.run_server(mode='inline')\n",
    "\n",
    "# Run app and display result on localhost\n",
    "app.run_server(mode='external')"
   ]
  },
  {
   "cell_type": "code",
   "execution_count": null,
   "metadata": {},
   "outputs": [],
   "source": []
  },
  {
   "cell_type": "code",
   "execution_count": null,
   "metadata": {},
   "outputs": [],
   "source": []
  }
 ],
 "metadata": {
  "kernelspec": {
   "display_name": "Python 3",
   "language": "python",
   "name": "python3"
  },
  "language_info": {
   "codemirror_mode": {
    "name": "ipython",
    "version": 3
   },
   "file_extension": ".py",
   "mimetype": "text/x-python",
   "name": "python",
   "nbconvert_exporter": "python",
   "pygments_lexer": "ipython3",
   "version": "3.7.3"
  }
 },
 "nbformat": 4,
 "nbformat_minor": 4
}
