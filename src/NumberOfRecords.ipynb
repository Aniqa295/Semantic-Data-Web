{
 "cells": [
  {
   "cell_type": "code",
   "execution_count": 1,
   "metadata": {},
   "outputs": [],
   "source": [
    "import plotly.express as px\n",
    "import plotly.graph_objs as go\n",
    "from jupyter_dash import JupyterDash\n",
    "import dash_core_components as dcc\n",
    "import dash_html_components as html\n",
    "from dash.dependencies import Input, Output, State\n",
    "from SPARQLWrapper import SPARQLWrapper, JSON, CSV\n",
    "import dash_table\n",
    "import dash\n",
    "import pandas as pd\n",
    "import json\n",
    "import csv\n",
    "import base64\n",
    "import datetime\n",
    "import io\n",
    "import sys"
   ]
  },
  {
   "cell_type": "code",
   "execution_count": 2,
   "metadata": {},
   "outputs": [
    {
     "name": "stdout",
     "output_type": "stream",
     "text": [
      "Dash app running on http://127.0.0.1:8050/\n"
     ]
    }
   ],
   "source": [
    "# Build App\n",
    "app = JupyterDash(__name__,suppress_callback_exceptions=True)\n",
    "\n",
    "\n",
    "# dash layout\n",
    "app.layout = html.Div([\n",
    "    dcc.Textarea(\n",
    "        id='textarea-state-example',\n",
    "        value='Enter your SPARQL query to query wikidata',\n",
    "        style={'width': '50%', 'height': 200},\n",
    "    ),\n",
    "    html.Button('Submit', id='textarea-state-example-button', n_clicks=0, className=\"querybox--btn\"),\n",
    "    html.Div(id='graph-size',children=[])\n",
    "     \n",
    "])\n",
    "\n",
    "@app.callback(\n",
    "    Output(component_id='graph-size', component_property='children'),\n",
    "    Input('textarea-state-example-button', 'n_clicks'),\n",
    "    State('textarea-state-example', 'value')\n",
    ")\n",
    "\n",
    "#function to listen to submit button and take textarea content\n",
    "def update_output(n_clicks, value):\n",
    "    if n_clicks > 0:\n",
    "        return sql(value)\n",
    "\n",
    "endpoint_url = \"https://query.wikidata.org/sparql\"\n",
    "\n",
    "#Query the endpoint\n",
    "def get_results(endpoint_url, value):\n",
    "    sparql = SPARQLWrapper(endpoint_url)\n",
    "    sparql.setQuery(value)\n",
    "    sparql.setReturnFormat(JSON)\n",
    "    return sparql.query().convert()\n",
    "\n",
    "def sql(value):\n",
    "    results = get_results(endpoint_url, value)\n",
    "    txt = \"Number of records: \"\n",
    "    for result in results[\"results\"][\"bindings\"]:\n",
    "        length = len(results[\"results\"][\"bindings\"])\n",
    "    return txt, length\n",
    "\n",
    "#-------------------------------------\n",
    "if __name__ == '__main__':\n",
    "    app.run_server(debug=True)"
   ]
  }
 ],
 "metadata": {
  "kernelspec": {
   "display_name": "Python 3",
   "language": "python",
   "name": "python3"
  },
  "language_info": {
   "codemirror_mode": {
    "name": "ipython",
    "version": 3
   },
   "file_extension": ".py",
   "mimetype": "text/x-python",
   "name": "python",
   "nbconvert_exporter": "python",
   "pygments_lexer": "ipython3",
   "version": "3.8.3"
  }
 },
 "nbformat": 4,
 "nbformat_minor": 4
}
