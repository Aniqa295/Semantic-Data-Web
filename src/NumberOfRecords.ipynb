{
 "cells": [
  {
   "cell_type": "code",
   "execution_count": 1,
   "metadata": {},
   "outputs": [],
   "source": [
    "#import needed libraries\n",
    "\n",
    "import dash\n",
    "import pandas as pd\n",
    "\n",
    "import plotly.express as px\n",
    "from jupyter_dash import JupyterDash\n",
    "import dash_core_components as dcc\n",
    "import dash_html_components as html\n",
    "from dash.dependencies import Input, Output, State\n",
    "\n",
    "import pandas as pd\n",
    "from SPARQLWrapper import SPARQLWrapper, JSON, CSV,TURTLE,RDF\n",
    "import rdflib\n",
    "from rdflib import Graph, URIRef\n",
    "from rdflib.namespace import RDFS, SKOS\n",
    "\n",
    "app = JupyterDash(__name__)"
   ]
  },
  {
   "cell_type": "code",
   "execution_count": 2,
   "metadata": {},
   "outputs": [
    {
     "name": "stdout",
     "output_type": "stream",
     "text": [
      "Dash app running on http://127.0.0.1:8050/\n"
     ]
    }
   ],
   "source": [
    "\n",
    "# dash layout\n",
    "app.layout = html.Div([\n",
    "    dcc.Textarea(\n",
    "        id='textarea-state-example',\n",
    "        value='Enter your SPARQL query to query wikidata',\n",
    "        style={'width': '50%', 'height': 200},\n",
    "    ),\n",
    "    html.Button('Submit', id='textarea-state-example-button', n_clicks=0),\n",
    "    html.Div(id='graph-size',children=[])\n",
    "     \n",
    "])\n",
    "\n",
    "@app.callback(\n",
    "    Output(component_id='graph-size', component_property='children'),\n",
    "    Input('textarea-state-example-button', 'n_clicks'),\n",
    "    State('textarea-state-example', 'value')\n",
    ")\n",
    "\n",
    "#function to listen to submit button and take textarea content\n",
    "def update_output(n_clicks, value):\n",
    "    if n_clicks > 0:\n",
    "        return sql(value)\n",
    "    \n",
    "#function to query dbpedia endpoint\n",
    "def sql(value):\n",
    "    sparql = SPARQLWrapper(\"https://query.wikidata.org/sparql\")\n",
    "    sparql.setQuery(value)\n",
    "    sparql.setReturnFormat(CSV)\n",
    "    results = sparql.query()\n",
    "    \n",
    "    file = list() #create an empty list\n",
    "    #loop to put each of the indididual record in anew row\n",
    "    for result in results:\n",
    "        file.append(result)\n",
    "    txt = \"Number of triples: \"\n",
    "    graphSize = len(file)\n",
    "    return txt, graphSize\n",
    "#-------------------------------------\n",
    "if __name__ == '__main__':\n",
    "    app.run_server(debug=True)"
   ]
  }
 ],
 "metadata": {
  "kernelspec": {
   "display_name": "Python 3",
   "language": "python",
   "name": "python3"
  },
  "language_info": {
   "codemirror_mode": {
    "name": "ipython",
    "version": 3
   },
   "file_extension": ".py",
   "mimetype": "text/x-python",
   "name": "python",
   "nbconvert_exporter": "python",
   "pygments_lexer": "ipython3",
   "version": "3.8.3"
  }
 },
 "nbformat": 4,
 "nbformat_minor": 4
}
