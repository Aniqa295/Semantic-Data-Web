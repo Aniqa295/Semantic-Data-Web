{
 "cells": [
  {
   "cell_type": "code",
   "execution_count": 5,
   "metadata": {},
   "outputs": [],
   "source": [
    "from ipynb.fs.full.MainApp import app\n",
    "import ipynb.fs.full.HelperFunctions \n",
    "import ipynb.fs.full.Tabs \n",
    "import ipynb.fs.full.Layout \n",
    "import ipynb.fs.full.QueryTextUpdates \n",
    "import ipynb.fs.full.QueryResultCallbacks\n",
    "import ipynb.fs.full.TableCallbacks\n",
    "import ipynb.fs.full.ChartsResultCallback\n",
    "import ipynb.fs.full.Statistics"
   ]
  },
  {
   "cell_type": "code",
   "execution_count": 6,
   "metadata": {},
   "outputs": [
    {
     "name": "stdout",
     "output_type": "stream",
     "text": [
      "Dash app running on http://127.0.0.1:8060/\n"
     ]
    }
   ],
   "source": [
    "# Run app and display result inline in the notebook\n",
    "app.run_server(mode='external',port=8060)"
   ]
  },
  {
   "cell_type": "code",
   "execution_count": null,
   "metadata": {},
   "outputs": [],
   "source": []
  }
 ],
 "metadata": {
  "kernelspec": {
   "display_name": "dlvr",
   "language": "python",
   "name": "dlvr"
  },
  "language_info": {
   "codemirror_mode": {
    "name": "ipython",
    "version": 3
   },
   "file_extension": ".py",
   "mimetype": "text/x-python",
   "name": "python",
   "nbconvert_exporter": "python",
   "pygments_lexer": "ipython3",
   "version": "3.8.5"
  }
 },
 "nbformat": 4,
 "nbformat_minor": 4
}
