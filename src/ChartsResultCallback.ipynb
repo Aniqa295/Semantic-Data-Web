{
 "cells": [
  {
   "cell_type": "code",
   "execution_count": 1,
   "metadata": {},
   "outputs": [],
   "source": [
    "import plotly.express as px\n",
    "from jupyter_dash import JupyterDash\n",
    "from dash.dependencies import Input, Output, State\n",
    "import dash_table\n",
    "import dash\n",
    "import pandas as pd\n",
    "import import_ipynb\n",
    "from ipynb.fs.full.MainApp import app\n",
    "from ipynb.fs.full.GenerateCharts import gen_graph_function"
   ]
  },
  {
   "cell_type": "code",
   "execution_count": 2,
   "metadata": {},
   "outputs": [],
   "source": [
    "#---------------------------------------------------Charts Callback--------------------------------------------------------------\n",
    "@app.callback(\n",
    "    [Output(\"graph\", \"figure\"), Output('result-graph', 'style')],\n",
    "    [Input(\"submit-btn\", \"n_clicks\"),\n",
    "    Input(\"intermediate-value\", \"children\"),\n",
    "    ],\n",
    ")\n",
    "def gen_graph(n_clicks, jsonified_ResultListdataframe):\n",
    "    return gen_graph_function(n_clicks, jsonified_ResultListdataframe)\n",
    "    \n",
    "#---------------------------------------------------Charts Compare Callback--------------------------------------------------------------\n",
    "@app.callback(\n",
    "    [Output(\"graph2\", \"figure\"), Output('result-graph2', 'style')],\n",
    "    [Input(\"compare-btn\", \"n_clicks\"),\n",
    "    Input(\"intermediate-value2\", \"children\"),\n",
    "    ],\n",
    ")\n",
    "def gen_graph(n_clicks, jsonified_ResultListdataframe):\n",
    "    return gen_graph_function(n_clicks, jsonified_ResultListdataframe)"
   ]
  },
  {
   "cell_type": "code",
   "execution_count": null,
   "metadata": {},
   "outputs": [],
   "source": []
  }
 ],
 "metadata": {
  "kernelspec": {
   "display_name": "dlvr",
   "language": "python",
   "name": "dlvr"
  },
  "language_info": {
   "codemirror_mode": {
    "name": "ipython",
    "version": 3
   },
   "file_extension": ".py",
   "mimetype": "text/x-python",
   "name": "python",
   "nbconvert_exporter": "python",
   "pygments_lexer": "ipython3",
   "version": "3.8.5"
  }
 },
 "nbformat": 4,
 "nbformat_minor": 4
}
