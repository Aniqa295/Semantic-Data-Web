{
 "cells": [
  {
   "cell_type": "code",
   "execution_count": 1,
   "metadata": {},
   "outputs": [],
   "source": [
    "from jupyter_dash import JupyterDash\n",
    "import dash_core_components as dcc\n",
    "import dash_html_components as html\n",
    "from dash.dependencies import Input, Output, State\n",
    "import base64\n",
    "import datetime\n",
    "import io\n",
    "import sys\n",
    "import os\n",
    "import csv\n",
    "import pandas as pd\n",
    "from ipynb.fs.full.MainApp import app"
   ]
  },
  {
   "cell_type": "code",
   "execution_count": 2,
   "metadata": {},
   "outputs": [],
   "source": [
    "#-----------------------------------------initial empty table ----------------------------------------------------------------\n",
    "start_table_df = pd.DataFrame(columns=[''])\n",
    "\n",
    "#---------------------------------------------------Upload File Callback for query1--------------------------------------------------------------\n",
    "UPLOAD_DIRECTORY = \"../data/\"\n",
    "@app.callback(Output('endpoint-query1-intermediate-value1', 'title'),\n",
    "              [Input('upload-data', 'contents'),\n",
    "              Input('upload-data', 'filename'),\n",
    "              Input('upload-data', 'last_modified'),\n",
    "             \n",
    "              ])\n",
    "def update_output(list_of_contents, list_of_names, list_of_dates):\n",
    "   \n",
    "        if list_of_contents is not None:\n",
    "            data = list_of_contents[0].encode(\"utf8\").split(b\";base64,\")[1]\n",
    "            with open(os.path.join(UPLOAD_DIRECTORY, list_of_names[0]), \"wb\") as fp:\n",
    "                fp.write(base64.decodebytes(data))\n",
    "                return list_of_names[0]\n",
    "        return ''\n",
    "#---------------------------------------------------Upload File Compare Callback for query2--------------------------------------------------------------\n",
    "@app.callback(Output('endpoint-query2-intermediate-value1', 'title'),\n",
    "              [Input('upload-data2', 'contents'),\n",
    "              Input('upload-data2', 'filename'),\n",
    "              Input('upload-data2', 'last_modified'),\n",
    "             \n",
    "              ])\n",
    "def update_output(list_of_contents, list_of_names, list_of_dates):\n",
    "   \n",
    "        if list_of_contents is not None:\n",
    "            data = list_of_contents[0].encode(\"utf8\").split(b\";base64,\")[1]\n",
    "            with open(os.path.join(UPLOAD_DIRECTORY, list_of_names[0]), \"wb\") as fp:\n",
    "                fp.write(base64.decodebytes(data))\n",
    "                return list_of_names[0]\n",
    "        return ''\n",
    "    \n",
    "#-----------------------------------------read query samples file----------------------------------------------------------------\n",
    "#make query examples table from csv file\n",
    "with open('../data/Book3.csv', 'rt') as f:\n",
    "    csv_reader = csv.reader(f)\n",
    "    headers = []\n",
    "    queries = []\n",
    "    endpoints = []\n",
    "    for line in csv_reader:\n",
    "        headers.append(line[0])\n",
    "        queries.append(line[1])\n",
    "        endpoints.append(line[2])\n",
    "\n",
    "    data = {'Query Examples':  headers}\n",
    "    df = pd.DataFrame (data, columns = ['Query Examples'])\n",
    "    ResultListdataframe = pd.DataFrame (data=[], columns = [])\n",
    "    \n"
   ]
  },
  {
   "cell_type": "code",
   "execution_count": null,
   "metadata": {},
   "outputs": [],
   "source": []
  }
 ],
 "metadata": {
  "kernelspec": {
   "display_name": "Python 3",
   "language": "python",
   "name": "python3"
  },
  "language_info": {
   "codemirror_mode": {
    "name": "ipython",
    "version": 3
   },
   "file_extension": ".py",
   "mimetype": "text/x-python",
   "name": "python",
   "nbconvert_exporter": "python",
   "pygments_lexer": "ipython3",
   "version": "3.7.6"
  }
 },
 "nbformat": 4,
 "nbformat_minor": 4
}
