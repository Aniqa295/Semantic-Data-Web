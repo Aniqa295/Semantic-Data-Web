{
 "cells": [
  {
   "cell_type": "code",
   "execution_count": 1,
   "metadata": {},
   "outputs": [],
   "source": [
    "import dash\n",
    "import plotly.express as px\n",
    "from jupyter_dash import JupyterDash\n",
    "import dash_core_components as dcc\n",
    "import dash_html_components as html\n",
    "from dash.dependencies import Input, Output, State\n",
    "from SPARQLWrapper import SPARQLWrapper,SPARQLWrapper2, JSON, CSV, N3\n"
   ]
  },
  {
   "cell_type": "code",
   "execution_count": 2,
   "metadata": {},
   "outputs": [],
   "source": [
    "# Build App\n",
    "app = JupyterDash(__name__)\n",
    "\n",
    "#function to query dbpedia endpoint\n",
    "def sql(value):\n",
    "    sparql = SPARQLWrapper(\"http://dbpedia.org/sparql\")\n",
    "    sparql.setQuery(value)\n",
    "    sparql.setReturnFormat(CSV)\n",
    "    results = sparql.query()\n",
    "    file = list() #create an empty list\n",
    "    #loop to put each of the individual records in a new row\n",
    "    for result in results:\n",
    "        file.append(result)\n",
    "    \n",
    "    print(file[0])\n",
    "        \n",
    "    return file\n",
    "\n",
    "app.layout = html.Div([\n",
    "    \n",
    "    html.Div(\n",
    "        className=\"navbar\",\n",
    "        children=[ \n",
    "            html.H3('Interactive Data Analytics Dashboard for RDF Knowledge Graphs', className=\"navbar--title\"),\n",
    "            html.Div(\n",
    "                className=\"navbar--btns\",\n",
    "                children=[\n",
    "                    html.Span(\n",
    "                        className=\"navbar--btn_left\",\n",
    "                        children=\"Dashboard\"),\n",
    "                    html.Span(\n",
    "                        className=\"navbar--btn_left\",\n",
    "                        children=\"Tables\"),\n",
    "                    html.Span(\n",
    "                        className=\"navbar--btn_left\",\n",
    "                        children=\"Charts\"),\n",
    "                    html.Span(\n",
    "                        className=\"navbar--btn_left\",\n",
    "                        children=\"Query Samples\"),\n",
    "                    html.Span(\n",
    "                        className=\"navbar--btn_right\",\n",
    "                        children=\"Upload\"),\n",
    "                    html.Span(\n",
    "                        className=\"navbar--btn_right\",\n",
    "                        children=\"Download\"),]),\n",
    "\n",
    "   \n",
    "    html.Div(\n",
    "        className=\"querybox\",\n",
    "        children=[\n",
    "            html.H4(\"SPARQL Query\", className=\"querybox--title\"),\n",
    "            dcc.Textarea(id= \"query-text\", value=\"Enter your SPARQL query.\", className=\"querybox--textarea\"),\n",
    "            html.Button(\"SUBMIT\", id=\"submit-btn\", className=\"querybox--btn\", n_clicks=0)\n",
    "        ]),\n",
    "    html.Div(id=\"output\")\n",
    "      ]),\n",
    "\n",
    "       \n",
    "])#lay-out div    \n",
    "    \n"
   ]
  },
  {
   "cell_type": "code",
   "execution_count": 3,
   "metadata": {},
   "outputs": [
    {
     "name": "stdout",
     "output_type": "stream",
     "text": [
      "Dash app running on http://127.0.0.1:8050/\n"
     ]
    }
   ],
   "source": [
    "@app.callback(\n",
    "    Output(\"output\", \"children\"),\n",
    "    Input(\"submit-btn\", \"n_clicks\"),\n",
    "    State(\"query-text\",\"value\")\n",
    ")\n",
    "#function to listen to submit button and take textarea content\n",
    "def update_output(n_clicks, value):\n",
    "    if n_clicks > 0:\n",
    "        resultList = sql(value)\n",
    "        resultListDecoded = list()\n",
    "        for result in resultList:   \n",
    "            resultListDecoded.append(result.decode(\"utf-8\"))\n",
    "            \n",
    "        return resultListDecoded\n",
    "    \n",
    "if __name__ == '__main__':\n",
    "    app.run_server(debug=True)"
   ]
  },
  {
   "cell_type": "raw",
   "metadata": {},
   "source": [
    "The query:\n",
    "\n",
    "\n",
    "PREFIX : <http://dbpedia.org/resource/>\n",
    "PREFIX rdf: <http://www.w3.org/1999/02/22-rdf-syntax-ns#>\n",
    "PREFIX rdfs: <http://www.w3.org/2000/01/rdf-schema#>\n",
    "PREFIX dbo: <http://dbpedia.org/ontology/>\n",
    "SELECT ?author_name ?title\n",
    "WHERE {\n",
    "     ?author rdf:type dbo:Writer. \n",
    "     ?author rdfs:label ?author_name .\n",
    "     FILTER (LANG(?author_name)='en').\n",
    "     ?author dbo:notableWork ?work .\n",
    "     ?work rdfs:label ?title .\n",
    "     FILTER (LANG(?title)='en').\n",
    "} LIMIT 15"
   ]
  },
  {
   "cell_type": "raw",
   "metadata": {},
   "source": [
    "My question:\n",
    "\n",
    "how can we check the results has Numeric or time value?\n",
    "which format should we use? JSON, N3\n"
   ]
  },
  {
   "cell_type": "code",
   "execution_count": 4,
   "metadata": {},
   "outputs": [
    {
     "name": "stdout",
     "output_type": "stream",
     "text": [
      "['author_name', 'title']\n",
      "Abbie Hoffman Steal This Book\n",
      "Alice Walker The Color Purple\n",
      "Barry Took Round the Horne\n",
      "Charles Beaumont The Twilight Zone\n",
      "David Eddings The Belgariad\n",
      "David Eddings The Malloreon\n",
      "Edward Albee Who's Afraid of Virginia Woolf?\n",
      "Greg Bear Blood Music (novel)\n",
      "Victor Hugo The Hunchback of Notre-Dame\n",
      "William Golding Lord of the Flies\n",
      "William Makepeace Thackeray Vanity Fair (novel)\n",
      "Subin Bhattarai Monsoon\n",
      "Betty Fussell The New York Times\n",
      "Kenneth Grahame The Wind in the Willows\n",
      "John Norman Gor\n"
     ]
    }
   ],
   "source": [
    "from SPARQLWrapper import SPARQLWrapper2\n",
    "sparql = SPARQLWrapper2(\"http://dbpedia.org/sparql\")\n",
    "sparql.setQuery(\"\"\"\n",
    "PREFIX : <http://dbpedia.org/resource/>\n",
    "PREFIX rdf: <http://www.w3.org/1999/02/22-rdf-syntax-ns#>\n",
    "PREFIX rdfs: <http://www.w3.org/2000/01/rdf-schema#>\n",
    "PREFIX dbo: <http://dbpedia.org/ontology/>\n",
    "SELECT ?author_name ?title\n",
    "WHERE {\n",
    "     ?author rdf:type dbo:Writer. \n",
    "     ?author rdfs:label ?author_name .\n",
    "     FILTER (LANG(?author_name)='en').\n",
    "     ?author dbo:notableWork ?work .\n",
    "     ?work rdfs:label ?title .\n",
    "     FILTER (LANG(?title)='en').\n",
    "} LIMIT 15\n",
    "\"\"\")\n",
    "\n",
    "print((sparql.query().variables))\n",
    "\n",
    "for result in sparql.query().bindings:\n",
    "        print(result[sparql.query().variables[0]].value, result[sparql.query().variables[1]].value)\n",
    "\n"
   ]
  },
  {
   "cell_type": "code",
   "execution_count": 5,
   "metadata": {},
   "outputs": [
    {
     "name": "stdout",
     "output_type": "stream",
     "text": [
      "['author_name', 'title']\n"
     ]
    },
    {
     "data": {
      "text/plain": [
       "{'author_name': Value(literal:'Abbie Hoffman'),\n",
       " 'title': Value(literal:'Steal This Book')}"
      ]
     },
     "execution_count": 5,
     "metadata": {},
     "output_type": "execute_result"
    }
   ],
   "source": [
    "from SPARQLWrapper import SPARQLWrapper, RDFXML\n",
    "\n",
    "sparql = SPARQLWrapper2(\"http://dbpedia.org/sparql\")\n",
    "sparql.setQuery(\"\"\"\n",
    "PREFIX : <http://dbpedia.org/resource/>\n",
    "PREFIX rdf: <http://www.w3.org/1999/02/22-rdf-syntax-ns#>\n",
    "PREFIX rdfs: <http://www.w3.org/2000/01/rdf-schema#>\n",
    "PREFIX dbo: <http://dbpedia.org/ontology/>\n",
    "SELECT ?author_name ?title\n",
    "WHERE {\n",
    "     ?author rdf:type dbo:Writer. \n",
    "     ?author rdfs:label ?author_name .\n",
    "     FILTER (LANG(?author_name)='en').\n",
    "     ?author dbo:notableWork ?work .\n",
    "     ?work rdfs:label ?title .\n",
    "     FILTER (LANG(?title)='en').\n",
    "} LIMIT 15\n",
    "\"\"\")\n",
    "\n",
    "results = sparql.query()\n",
    "print(results.variables)\n",
    "results.bindings[0]"
   ]
  },
  {
   "cell_type": "code",
   "execution_count": null,
   "metadata": {},
   "outputs": [],
   "source": []
  },
  {
   "cell_type": "code",
   "execution_count": null,
   "metadata": {},
   "outputs": [],
   "source": []
  }
 ],
 "metadata": {
  "kernelspec": {
   "display_name": "Python 3",
   "language": "python",
   "name": "python3"
  },
  "language_info": {
   "codemirror_mode": {
    "name": "ipython",
    "version": 3
   },
   "file_extension": ".py",
   "mimetype": "text/x-python",
   "name": "python",
   "nbconvert_exporter": "python",
   "pygments_lexer": "ipython3",
   "version": "3.7.6"
  }
 },
 "nbformat": 4,
 "nbformat_minor": 4
}
