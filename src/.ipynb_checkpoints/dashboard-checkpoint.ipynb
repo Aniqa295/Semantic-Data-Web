{
 "cells": [
  {
   "cell_type": "code",
   "execution_count": 1,
   "metadata": {},
   "outputs": [],
   "source": [
    "import dash\n",
    "import plotly.express as px\n",
    "from jupyter_dash import JupyterDash\n",
    "import dash_core_components as dcc\n",
    "import dash_html_components as html\n",
    "from dash.dependencies import Input, Output, State\n",
    "from SPARQLWrapper import SPARQLWrapper, JSON, CSV\n"
   ]
  },
  {
   "cell_type": "code",
   "execution_count": 2,
   "metadata": {},
   "outputs": [
    {
     "name": "stdout",
     "output_type": "stream",
     "text": [
      "Dash app running on http://127.0.0.1:8050/\n"
     ]
    }
   ],
   "source": [
    "# Build App\n",
    "app = JupyterDash(__name__)\n",
    "\n",
    "#function to query dbpedia endpoint\n",
    "def sql(value):\n",
    "    sparql = SPARQLWrapper(\"http://dbpedia.org/sparql\")\n",
    "    sparql.setQuery(value)\n",
    "    sparql.setReturnFormat(CSV)\n",
    "    results = sparql.query()\n",
    "    \n",
    "    file = list() #create an empty list\n",
    "    #loop to put each of the individual records in a new row\n",
    "    for result in results:\n",
    "        file.append(result)\n",
    "        \n",
    "    return results\n",
    "\n",
    "app.layout = html.Div([\n",
    "    \n",
    "    html.Div(\n",
    "        className=\"navbar\",\n",
    "        children=[ \n",
    "            html.H3('Interactive Data Analytics Dashboard for RDF Knowledge Graphs', className=\"navbar--title\"),\n",
    "            html.Div(\n",
    "                className=\"navbar--btns\",\n",
    "                children=[\n",
    "                    html.Span(\n",
    "                        className=\"navbar--btn_left\",\n",
    "                        children=\"Dashboard\"),\n",
    "                    html.Span(\n",
    "                        className=\"navbar--btn_left\",\n",
    "                        children=\"Tables\"),\n",
    "                    html.Span(\n",
    "                        className=\"navbar--btn_left\",\n",
    "                        children=\"Charts\"),\n",
    "                    html.Span(\n",
    "                        className=\"navbar--btn_left\",\n",
    "                        children=\"Query Samples\"),\n",
    "                    html.Span(\n",
    "                        className=\"navbar--btn_right\",\n",
    "                        children=\"Upload\"),\n",
    "                    html.Span(\n",
    "                        className=\"navbar--btn_right\",\n",
    "                        children=\"Download\"),]),\n",
    "\n",
    "   \n",
    "    html.Div(\n",
    "        className=\"querybox\",\n",
    "        children=[\n",
    "            html.H4(\"SPARQL Query\", className=\"querybox--title\"),\n",
    "            dcc.Textarea(id= \"query-text\", value=\"Enter your SPARQL query.\", className=\"querybox--textarea\"),\n",
    "            html.Button(\"SUBMIT\", id=\"submit-btn\", className=\"querybox--btn\", n_clicks=0)\n",
    "        ]),\n",
    "    html.Div(id=\"output\")\n",
    "      ]),\n",
    "\n",
    "       \n",
    "])#lay-out div    \n",
    "    \n",
    "@app.callback(\n",
    "    Output(\"output\", \"children\"),\n",
    "    Input(\"submit-btn\", \"n_clicks\"),\n",
    "    State(\"query-text\",\"value\")\n",
    ")\n",
    "def update_output(n_clicks, value):\n",
    "    if n_clicks > 0:\n",
    "        for result in results:\n",
    "\n",
    "        return sql(value).decode(\"utf-8\")\n",
    "    \n",
    "if __name__ == '__main__':\n",
    "    app.run_server(debug=True)"
   ]
  },
  {
   "cell_type": "code",
   "execution_count": 3,
   "metadata": {},
   "outputs": [],
   "source": [
    "# Run app and display result inline in the notebook\n",
    "#app.run_server(mode='inline')\n",
    "\n",
    "# Run app and display result on localhost\n",
    "#app.run_server(mode='external')"
   ]
  },
  {
   "cell_type": "markdown",
   "metadata": {},
   "source": [
    "PREFIX : <http://dbpedia.org/resource/>\n",
    "PREFIX rdf: <http://www.w3.org/1999/02/22-rdf-syntax-ns#>\n",
    "PREFIX rdfs: <http://www.w3.org/2000/01/rdf-schema#>\n",
    "PREFIX dbo: <http://dbpedia.org/ontology/>\n",
    "SELECT ?author_name ?title\n",
    "WHERE {\n",
    "     ?author rdf:type dbo:Writer. \n",
    "     ?author rdfs:label ?author_name .\n",
    "     FILTER (LANG(?author_name)='en').\n",
    "     ?author dbo:notableWork ?work .\n",
    "     ?work rdfs:label ?title .\n",
    "     FILTER (LANG(?title)='en').\n",
    " } LIMIT 15"
   ]
  },
  {
   "cell_type": "code",
   "execution_count": null,
   "metadata": {},
   "outputs": [],
   "source": []
  }
 ],
 "metadata": {
  "kernelspec": {
   "display_name": "Python 3",
   "language": "python",
   "name": "python3"
  },
  "language_info": {
   "codemirror_mode": {
    "name": "ipython",
    "version": 3
   },
   "file_extension": ".py",
   "mimetype": "text/x-python",
   "name": "python",
   "nbconvert_exporter": "python",
   "pygments_lexer": "ipython3",
   "version": "3.7.6"
  }
 },
 "nbformat": 4,
 "nbformat_minor": 4
}
