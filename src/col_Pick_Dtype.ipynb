{
 "cells": [
  {
   "cell_type": "code",
   "execution_count": 39,
   "metadata": {},
   "outputs": [
    {
     "name": "stdout",
     "output_type": "stream",
     "text": [
      "Dash app running on http://127.0.0.1:8050/\n"
     ]
    }
   ],
   "source": [
    "#import the needed libraries\n",
    "import dash\n",
    "import pandas as pd\n",
    "import plotly.express as px\n",
    "from jupyter_dash import JupyterDash\n",
    "import dash_core_components as dcc\n",
    "import dash_html_components as html\n",
    "from dash.dependencies import Input, Output\n",
    "\n",
    "\n",
    "app =JupyterDash(__name__)\n",
    "\n",
    "df = pd.read_csv('Topic_Survey_Assignment.csv')\n",
    "\n",
    "#get the first column of the dataFrame\n",
    "first_column = df.columns[0]\n",
    "\n",
    "\n",
    "#layout\n",
    "app.layout = html.Div(children=[\n",
    "    html.H1(children='SDWTLab Select Column-Check Datatype'),\n",
    "\n",
    "    html.Div(id='output_container', children=[]),\n",
    "   \n",
    "    \n",
    "    dcc.Dropdown(\n",
    "                id='slct_col1',\n",
    "                options=[{'label': coln, 'value': coln} for coln in df.columns],\n",
    "                multi=False,\n",
    "                value=first_column,\n",
    "                style={'width': '40%'}\n",
    "            ),\n",
    "    dcc.Dropdown(\n",
    "                id='slct_col2',\n",
    "                options=[{'label': coln, 'value': coln} for coln in df.columns],\n",
    "                multi=False,\n",
    "                value=first_column,\n",
    "                style={'width': '40%'}\n",
    "             ),\n",
    "    dcc.Graph(\n",
    "        id='bar-graph',\n",
    "        figure={}\n",
    "             )\n",
    "])\n",
    "\n",
    "\n",
    "# Connect the Plotly graphs with Dash Components\n",
    "@app.callback(\n",
    "    [Output(component_id='output_container', component_property='children'),\n",
    "     Output(component_id='bar-graph', component_property='figure')],\n",
    "    [Input(component_id='slct_col1', component_property='value'),\n",
    "     Input(component_id='slct_col2', component_property='value')]\n",
    ") #function take the two inputs from the dropdown menus\n",
    "def bar_cht(option1,option2):\n",
    "    dff = df.copy()\n",
    "    X = option1\n",
    "    Y = option2\n",
    "#     if dff[X].dtype=='object':\n",
    "#         fig = px.bar(dff, x=X, y=Y)\n",
    "        \n",
    "    fig = px.bar(dff, x=X, y=Y)    \n",
    "    container =\"Select value for x-axis and y-axis\"\n",
    "   \n",
    "    \n",
    "    return container, fig\n",
    "\n",
    "\n",
    "#-------------------------\n",
    "if __name__ == '__main__':\n",
    "    app.run_server(mode='external')"
   ]
  },
  {
   "cell_type": "code",
   "execution_count": 36,
   "metadata": {},
   "outputs": [
    {
     "name": "stdout",
     "output_type": "stream",
     "text": [
      "Topic                  object\n",
      "Very interested         int64\n",
      "Somewhat interested     int64\n",
      "Not interested          int64\n",
      "dtype: object\n",
      "\n",
      "Y-axis can not be of type object\n"
     ]
    }
   ],
   "source": [
    "import seaborn as sns\n",
    "import matplotlib.pyplot as plt\n",
    "\n",
    "# print the datatype\n",
    "print(df.dtypes)    \n",
    "    \n",
    "x =df.iloc[:,0]\n",
    "y= df.iloc[:,0]\n",
    "\n",
    "#check for datatype\n",
    "if x.dtype =='object' and y.dtype=='int64' or y.dtype=='float64':\n",
    "        print('\\n Plotting chart...')\n",
    "        ax = sns.barplot(data=df, x=x, y=y) #plot barchart if both axes are of the correct type\n",
    "else:\n",
    "    if x.dtype!='object' and y.dtype=='int64' or y.dtype=='float64':\n",
    "        print('\\nX-axis can only be of type object')\n",
    "    elif x.dtype =='object' and y.dtype=='object':\n",
    "        print('\\nY-axis can not be of type object')\n",
    "    else:\n",
    "        print('\\n Both axes are incorrect')"
   ]
  }
 ],
 "metadata": {
  "kernelspec": {
   "display_name": "Python 3",
   "language": "python",
   "name": "python3"
  },
  "language_info": {
   "codemirror_mode": {
    "name": "ipython",
    "version": 3
   },
   "file_extension": ".py",
   "mimetype": "text/x-python",
   "name": "python",
   "nbconvert_exporter": "python",
   "pygments_lexer": "ipython3",
   "version": "3.8.3"
  }
 },
 "nbformat": 4,
 "nbformat_minor": 4
}
