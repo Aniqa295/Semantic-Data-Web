{
 "cells": [
  {
   "cell_type": "code",
   "execution_count": 1,
   "metadata": {},
   "outputs": [],
   "source": [
    "import plotly.express as px\n",
    "from jupyter_dash import JupyterDash\n",
    "from dash.dependencies import Input, Output, State\n",
    "import dash_table\n",
    "import dash\n",
    "import pandas as pd\n",
    "from SPARQLWrapper import SPARQLWrapper, JSON, CSV\n",
    "import pandas as pd\n",
    "import json\n",
    "\n",
    "import import_ipynb\n",
    "from ipynb.fs.full.MainApp import app"
   ]
  },
  {
   "cell_type": "code",
   "execution_count": 2,
   "metadata": {},
   "outputs": [],
   "source": [
    "#function to query dbpedia endpoint\n",
    "def sql(value, endpoint):\n",
    "    sparql = SPARQLWrapper(endpoint)\n",
    "    sparql.setQuery(value)\n",
    "    sparql.setReturnFormat(JSON)\n",
    "    processed_results = sparql.query().convert()\n",
    "    cols = processed_results['head']['vars']\n",
    "\n",
    "    out = []\n",
    "    for row in processed_results['results']['bindings']:\n",
    "        item = []\n",
    "        for c in cols:\n",
    "            item.append(row.get(c, {}).get('value'))\n",
    "        out.append(item)\n",
    "\n",
    "    return pd.DataFrame(out, columns=cols)"
   ]
  },
  {
   "cell_type": "code",
   "execution_count": 3,
   "metadata": {},
   "outputs": [],
   "source": [
    "\n",
    "#---------------------------------------------------Get-data Function--------------------------------------------------------------\n",
    "def get_data_function(value, endpoint,endpointType):\n",
    "        if endpointType == '1':\n",
    "            g = rdflib.Graph()\n",
    "            g.parse(\"../data/\" + endpoint, format=rdflib.util.guess_format(\"../data/\" + endpoint))\n",
    "    #            qres = g.query(\n",
    "    #                \"\"\"select * where {<http://de.dbpedia.org/resource/Karlsruhe> ?p ?o .}\"\"\")\n",
    "            qres = g.query(value)\n",
    "            ResultListdataframe = pd.DataFrame (qres.bindings)\n",
    "     #       for row in qres:\n",
    "     #           print(\"%s knows %s\" % row)\n",
    "            return ResultListdataframe.to_json(date_format='iso', orient='split')\n",
    "        else:\n",
    "            ResultListdataframe = sql(value, endpoint)    \n",
    "            return ResultListdataframe.to_json(date_format='iso', orient='split')\n",
    "\n",
    "#---------------------------------------------------Get-data Callback--------------------------------------------------------------\n",
    "@app.callback([Output(\"alert-value\", \"is_open\"),Output(\"intermediate-value\", 'children')],\n",
    "               Input(\"submit-btn\", \"n_clicks\"),\n",
    "              [State(\"query-text\",\"value\"), State(\"query-endpoint\",\"value\"),State(\"endpoint-query1-type\", \"title\")])\n",
    "def get_data(n_clicks, value, endpoint,endpointType):\n",
    "     if n_clicks > 0:\n",
    "            if(len(value)!=0 and len(endpoint)!=0):\n",
    "                print(\"both value and endpoint present\")\n",
    "                return False, get_data_function(value, endpoint,endpointType)\n",
    "            elif(len(value)==0 or len(endpoint)==0):\n",
    "                print(\"please enter query or endpoint\")\n",
    "                return True, None\n",
    "    \n",
    "     return False, None\n",
    "\n",
    "#---------------------------------------------------Get-data Compare Callback--------------------------------------------------------------\n",
    "@app.callback(Output(\"intermediate-value2\", 'children'),\n",
    "               Input(\"compare-btn\", \"n_clicks\"),\n",
    "              [State(\"query-text2\",\"value\"), State(\"query-endpoint2\",\"value\"),State(\"endpoint-query2-type\", \"title\")])\n",
    "def get_data(n_clicks, value, endpoint,endpointType):\n",
    "     if n_clicks > 0:\n",
    "        return get_data_function(value, endpoint,endpointType)"
   ]
  }
 ],
 "metadata": {
  "kernelspec": {
   "display_name": "Python 3",
   "language": "python",
   "name": "python3"
  },
  "language_info": {
   "codemirror_mode": {
    "name": "ipython",
    "version": 3
   },
   "file_extension": ".py",
   "mimetype": "text/x-python",
   "name": "python",
   "nbconvert_exporter": "python",
   "pygments_lexer": "ipython3",
   "version": "3.7.6"
  }
 },
 "nbformat": 4,
 "nbformat_minor": 4
}
