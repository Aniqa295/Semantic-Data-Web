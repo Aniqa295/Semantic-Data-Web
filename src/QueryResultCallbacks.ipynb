{
 "cells": [
  {
   "cell_type": "code",
   "execution_count": 1,
   "metadata": {},
   "outputs": [],
   "source": [
    "import plotly.express as px\n",
    "from jupyter_dash import JupyterDash\n",
    "from dash.dependencies import Input, Output, State\n",
    "import dash_table\n",
    "import dash\n",
    "import pandas as pd\n",
    "import import_ipynb\n",
    "from ipynb.fs.full.MainApp import app\n",
    "from ipynb.fs.full.QueryOnlineEndpoint import sql"
   ]
  },
  {
   "cell_type": "code",
   "execution_count": 2,
   "metadata": {},
   "outputs": [],
   "source": [
    "#---------------------------------------------------Get-data Function--------------------------------------------------------------\n",
    "def get_data_function(value, endpoint,endpointType):\n",
    "        if endpointType == '1':\n",
    "            g = rdflib.Graph()\n",
    "            g.parse(\"../data/\" + endpoint, format=rdflib.util.guess_format(\"../data/\" + endpoint))\n",
    "    #            qres = g.query(\n",
    "    #                \"\"\"select * where {<http://de.dbpedia.org/resource/Karlsruhe> ?p ?o .}\"\"\")\n",
    "            qres = g.query(value)\n",
    "            ResultListdataframe = pd.DataFrame (qres.bindings)\n",
    "     #       for row in qres:\n",
    "     #           print(\"%s knows %s\" % row)\n",
    "            return ResultListdataframe.to_json(date_format='iso', orient='split')\n",
    "        else:\n",
    "            ResultListdataframe = sql(value, endpoint)    \n",
    "            return ResultListdataframe.to_json(date_format='iso', orient='split')\n",
    "\n",
    "#---------------------------------------------------Get-data Callback--------------------------------------------------------------\n",
    "@app.callback(Output(\"intermediate-value\", 'children'),\n",
    "               Input(\"submit-btn\", \"n_clicks\"),\n",
    "              [State(\"query-text\",\"value\"), State(\"query-endpoint\",\"value\"),State(\"endpoint-query1-type\", \"title\")])\n",
    "def get_data(n_clicks, value, endpoint,endpointType):\n",
    "     if n_clicks > 0:\n",
    "        return get_data_function(value, endpoint,endpointType)\n",
    "\n",
    "#---------------------------------------------------Get-data Compare Callback--------------------------------------------------------------\n",
    "@app.callback(Output(\"intermediate-value2\", 'children'),\n",
    "               Input(\"compare-btn\", \"n_clicks\"),\n",
    "              [State(\"query-text2\",\"value\"), State(\"query-endpoint2\",\"value\"),State(\"endpoint-query2-type\", \"title\")])\n",
    "def get_data(n_clicks, value, endpoint,endpointType):\n",
    "     if n_clicks > 0:\n",
    "        return get_data_function(value, endpoint,endpointType)"
   ]
  },
  {
   "cell_type": "code",
   "execution_count": null,
   "metadata": {},
   "outputs": [],
   "source": []
  }
 ],
 "metadata": {
  "kernelspec": {
   "display_name": "dlvr",
   "language": "python",
   "name": "dlvr"
  },
  "language_info": {
   "codemirror_mode": {
    "name": "ipython",
    "version": 3
   },
   "file_extension": ".py",
   "mimetype": "text/x-python",
   "name": "python",
   "nbconvert_exporter": "python",
   "pygments_lexer": "ipython3",
   "version": "3.8.5"
  }
 },
 "nbformat": 4,
 "nbformat_minor": 4
}
