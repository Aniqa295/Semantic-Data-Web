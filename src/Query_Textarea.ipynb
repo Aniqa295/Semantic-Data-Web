{
 "cells": [
  {
   "cell_type": "code",
   "execution_count": 1,
   "metadata": {},
   "outputs": [],
   "source": [
    "#import needed libraries\n",
    "\n",
    "import dash\n",
    "import pandas as pd\n",
    "\n",
    "import plotly.express as px\n",
    "from jupyter_dash import JupyterDash\n",
    "import dash_core_components as dcc\n",
    "import dash_html_components as html\n",
    "from dash.dependencies import Input, Output, State\n",
    "\n",
    "import pandas as pd\n",
    "from SPARQLWrapper import SPARQLWrapper, JSON, CSV\n",
    "\n",
    "app = JupyterDash(__name__)"
   ]
  },
  {
   "cell_type": "code",
   "execution_count": 2,
   "metadata": {},
   "outputs": [
    {
     "name": "stdout",
     "output_type": "stream",
     "text": [
      "Dash app running on http://127.0.0.1:8050/\n",
      "b'\"author_name\",\"title\"\\n'\n",
      "b'\"Abbie Hoffman\",\"Steal This Book\"\\n'\n",
      "b'\"Alice Walker\",\"The Color Purple\"\\n'\n",
      "b'\"Barry Took\",\"Round the Horne\"\\n'\n",
      "b'\"Charles Beaumont\",\"The Twilight Zone\"\\n'\n",
      "b'\"David Eddings\",\"The Belgariad\"\\n'\n",
      "b'\"David Eddings\",\"The Malloreon\"\\n'\n",
      "b'\"Edward Albee\",\"Who\\'s Afraid of Virginia Woolf?\"\\n'\n",
      "b'\"Greg Bear\",\"Blood Music (novel)\"\\n'\n",
      "b'\"Victor Hugo\",\"The Hunchback of Notre-Dame\"\\n'\n",
      "b'\"William Golding\",\"Lord of the Flies\"\\n'\n",
      "b'\"William Makepeace Thackeray\",\"Vanity Fair (novel)\"\\n'\n",
      "b'\"Subin Bhattarai\",\"Monsoon\"\\n'\n",
      "b'\"Betty Fussell\",\"The New York Times\"\\n'\n",
      "b'\"Kenneth Grahame\",\"The Wind in the Willows\"\\n'\n",
      "b'\"John Norman\",\"Gor\"\\n'\n"
     ]
    }
   ],
   "source": [
    "#function to query dbpedia endpoint\n",
    "def sql(value):\n",
    "    sparql = SPARQLWrapper(\"http://dbpedia.org/sparql\")\n",
    "    sparql.setQuery(value)\n",
    "    sparql.setReturnFormat(CSV)\n",
    "    results = sparql.query()\n",
    "    \n",
    "    file = list() #create an empty list\n",
    "    #loop to put each of the indididual record in anew row\n",
    "    for result in results:\n",
    "        file.append(result)\n",
    "        print(result) #print the result in notebook\n",
    "\n",
    "# dash layout\n",
    "app.layout = html.Div([\n",
    "    dcc.Textarea(\n",
    "        id='textarea-state-example',\n",
    "        value='Enter your SPARQL query',\n",
    "        style={'width': '50%', 'height': 200},\n",
    "    ),\n",
    "    html.Button('Submit', id='textarea-state-example-button', n_clicks=0),\n",
    "    html.Div(id='textarea-state-example-output', style={'whiteSpace': 'pre-line'})\n",
    "])\n",
    "\n",
    "@app.callback(\n",
    "    Output('textarea-state-example-output', 'children'),\n",
    "    Input('textarea-state-example-button', 'n_clicks'),\n",
    "    State('textarea-state-example', 'value')\n",
    ")\n",
    "\n",
    "#function to listen to submit button and take textarea content\n",
    "def update_output(n_clicks, value):\n",
    "    if n_clicks > 0:\n",
    "        return sql(value)\n",
    "\n",
    "if __name__ == '__main__':\n",
    "    app.run_server(debug=True)"
   ]
  },
  {
   "cell_type": "code",
   "execution_count": null,
   "metadata": {},
   "outputs": [],
   "source": [
    "#The query\n",
    "\n",
    "# PREFIX : <http://dbpedia.org/resource/>\n",
    "# PREFIX rdf: <http://www.w3.org/1999/02/22-rdf-syntax-ns#>\n",
    "# PREFIX rdfs: <http://www.w3.org/2000/01/rdf-schema#>\n",
    "# PREFIX dbo: <http://dbpedia.org/ontology/>\n",
    "# SELECT ?author_name ?title\n",
    "# WHERE {\n",
    "#     ?author rdf:type dbo:Writer. \n",
    "#     ?author rdfs:label ?author_name .\n",
    "#     FILTER (LANG(?author_name)='en').\n",
    "#     ?author dbo:notableWork ?work .\n",
    "#     ?work rdfs:label ?title .\n",
    "#     FILTER (LANG(?title)='en').\n",
    "# } LIMIT 15"
   ]
  }
 ],
 "metadata": {
  "kernelspec": {
   "display_name": "Python 3",
   "language": "python",
   "name": "python3"
  },
  "language_info": {
   "codemirror_mode": {
    "name": "ipython",
    "version": 3
   },
   "file_extension": ".py",
   "mimetype": "text/x-python",
   "name": "python",
   "nbconvert_exporter": "python",
   "pygments_lexer": "ipython3",
   "version": "3.8.3"
  }
 },
 "nbformat": 4,
 "nbformat_minor": 4
}
