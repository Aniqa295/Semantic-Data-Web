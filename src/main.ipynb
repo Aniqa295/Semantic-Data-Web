{
 "cells": [
  {
   "cell_type": "code",
   "execution_count": 1,
   "metadata": {},
   "outputs": [],
   "source": [
    "from ipynb.fs.full.MainApp import app\n",
    "import ipynb.fs.full.HelperFunctions \n",
    "import ipynb.fs.full.Tabs \n",
    "import ipynb.fs.full.Layout \n",
    "import ipynb.fs.full.QueryTextUpdates \n",
    "import ipynb.fs.full.QueryResultCallbacks\n",
    "import ipynb.fs.full.TableCallbacks\n",
    "import ipynb.fs.full.ChartsResultCallback\n",
    "import ipynb.fs.full.MapsCallbacks\n",
    "import ipynb.fs.full.Statistics"
   ]
  },
  {
   "cell_type": "code",
   "execution_count": 2,
   "metadata": {},
   "outputs": [
    {
     "name": "stdout",
     "output_type": "stream",
     "text": [
      "Dash app running on http://127.0.0.1:8090/\n",
      "Dash app running on http://127.0.0.1:8090/\n"
     ]
    },
    {
     "name": "stderr",
     "output_type": "stream",
     "text": [
      "C:\\Users\\Notebook\\anaconda3\\lib\\site-packages\\SPARQLWrapper\\Wrapper.py:845: RuntimeWarning: not detected query type for query ''\n",
      "  warnings.warn(\"not detected query type for query '%s'\" % query.replace(\"\\n\", \" \"), RuntimeWarning)\n",
      "C:\\Users\\Notebook\\anaconda3\\lib\\site-packages\\SPARQLWrapper\\Wrapper.py:852: RuntimeWarning: unknown query type 'None'\n",
      "  warnings.warn(\"unknown query type '%s'\" % r_queryType, RuntimeWarning)\n",
      "C:\\Users\\Notebook\\anaconda3\\lib\\site-packages\\SPARQLWrapper\\Wrapper.py:845: RuntimeWarning: not detected query type for query ''\n",
      "  warnings.warn(\"not detected query type for query '%s'\" % query.replace(\"\\n\", \" \"), RuntimeWarning)\n",
      "C:\\Users\\Notebook\\anaconda3\\lib\\site-packages\\SPARQLWrapper\\Wrapper.py:852: RuntimeWarning: unknown query type 'None'\n",
      "  warnings.warn(\"unknown query type '%s'\" % r_queryType, RuntimeWarning)\n"
     ]
    }
   ],
   "source": [
    "# Run app and display result inline in the notebook\n",
    "app.run_server(mode='external',port=8090)"
   ]
  },
  {
   "cell_type": "code",
   "execution_count": null,
   "metadata": {},
   "outputs": [],
   "source": []
  }
 ],
 "metadata": {
  "kernelspec": {
   "display_name": "Python 3",
   "language": "python",
   "name": "python3"
  },
  "language_info": {
   "codemirror_mode": {
    "name": "ipython",
    "version": 3
   },
   "file_extension": ".py",
   "mimetype": "text/x-python",
   "name": "python",
   "nbconvert_exporter": "python",
   "pygments_lexer": "ipython3",
   "version": "3.7.6"
  }
 },
 "nbformat": 4,
 "nbformat_minor": 4
}
