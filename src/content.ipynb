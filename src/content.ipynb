{
 "cells": [
  {
   "cell_type": "code",
   "execution_count": null,
   "metadata": {},
   "outputs": [],
   "source": [
    "def render_content(tab):\n",
    "    if tab == 'Dashboard':\n",
    "        return html.Div([\n",
    "        ])\n",
    "    elif tab == 'Tables':\n",
    "        return html.Div([\n",
    "            html.H3('Tables'),\n",
    "            html.Div(\n",
    "                id='MainTableDiv',\n",
    "                children=[\n",
    "                    dash_table.DataTable(\n",
    "                        id='Resulttable',\n",
    "                        style_table={'width': '800px'},\n",
    "                        style_cell=dict(textAlign='left'),   \n",
    "                        page_current=0,\n",
    "                        page_size=10,\n",
    "                        page_action='custom',\n",
    "                    )\n",
    "                ],\n",
    "                style= {'display': 'none'}\n",
    "            ),\n",
    "        ])\n",
    "    elif tab == 'Charts':\n",
    "        return html.Div([\n",
    "            html.H3('Charts'),\n",
    "            html.Div(\n",
    "                id=\"result-graph\",\n",
    "                className=\"result-graph\",\n",
    "                children=[\n",
    "                    dcc.Graph(id='graph')\n",
    "                ],\n",
    "                style= {'display': 'none'}\n",
    "            )\n",
    "        ])\n",
    "    elif tab == 'Samples':\n",
    "        return html.Div([\n",
    "            html.H3('Query Samples'),\n",
    "            html.Div(\n",
    "                className=\"examples\",\n",
    "                children=[\n",
    "                    dash_table.DataTable(\n",
    "                    id='table',\n",
    "                    columns=[{\"name\": i, \"id\": i} for i in df.columns],\n",
    "                    data=df.to_dict('records'),\n",
    "                    style_table={'width': '800px'},\n",
    "                    style_cell=dict(textAlign='left'),                   \n",
    "                    )\n",
    "                ]),\n",
    "        ])\n",
    "    \n"
   ]
  }
 ],
 "metadata": {
  "kernelspec": {
   "display_name": "Python 3",
   "language": "python",
   "name": "python3"
  },
  "language_info": {
   "codemirror_mode": {
    "name": "ipython",
    "version": 3
   },
   "file_extension": ".py",
   "mimetype": "text/x-python",
   "name": "python",
   "nbconvert_exporter": "python",
   "pygments_lexer": "ipython3",
   "version": "3.7.6"
  }
 },
 "nbformat": 4,
 "nbformat_minor": 4
}
